{
  "nbformat": 4,
  "nbformat_minor": 0,
  "metadata": {
    "colab": {
      "provenance": [],
      "authorship_tag": "ABX9TyMmqhRWRwHv2E3lT3o26Hiw",
      "include_colab_link": true
    },
    "kernelspec": {
      "name": "python3",
      "display_name": "Python 3"
    },
    "language_info": {
      "name": "python"
    }
  },
  "cells": [
    {
      "cell_type": "markdown",
      "metadata": {
        "id": "view-in-github",
        "colab_type": "text"
      },
      "source": [
        "<a href=\"https://colab.research.google.com/github/AmbujaShetty/WoTech-Python/blob/main/WoTech-Python/Lesson1.ipynb\" target=\"_parent\"><img src=\"https://colab.research.google.com/assets/colab-badge.svg\" alt=\"Open In Colab\"/></a>"
      ]
    },
    {
      "cell_type": "code",
      "source": [
        "name = \"Ambuja\" # text/str\n",
        "surname = \"srinivasa\"\n",
        "age = 30 #int\n",
        "job = \"programmer\"\n",
        "university_graduate = True #bool\n",
        "height = 155.9 #bool\n",
        "\n",
        "print(name, surname, university_graduate, job, height)"
      ],
      "metadata": {
        "colab": {
          "base_uri": "https://localhost:8080/"
        },
        "id": "UWjUb15fgL7u",
        "outputId": "377c6a49-5f3b-4129-a2f8-711d53b89625"
      },
      "execution_count": null,
      "outputs": [
        {
          "output_type": "stream",
          "name": "stdout",
          "text": [
            "Ambuja srinivasa True programmer 155.9\n"
          ]
        }
      ]
    },
    {
      "cell_type": "code",
      "source": [
        "name = \"Anna\" #text/string\n",
        "surname = \"Johnson\" #text/string\n",
        "age = 35 #integer\n",
        "occupation = \"Programmer\" #text/string\n",
        "university_graduate = False #boolean\n",
        "height = 172.23 #float\n",
        "\n",
        "print(name, surname, age, occupation, university_graduate, height)\n",
        "print(f\"Full name: {name} {surname}\\nOccupation: {occupation}\\nUni degree: {university_graduate}\")"
      ],
      "metadata": {
        "colab": {
          "base_uri": "https://localhost:8080/"
        },
        "id": "-1SyxRbCj1di",
        "outputId": "551e0396-1437-4847-a23b-d86b59ff2df6"
      },
      "execution_count": null,
      "outputs": [
        {
          "output_type": "stream",
          "name": "stdout",
          "text": [
            "Anna Johnson 35 Programmer False 172.23\n",
            "Full name: Anna Johnson\n",
            "Occupation: Programmer\n",
            "Uni degree: False\n"
          ]
        }
      ]
    },
    {
      "cell_type": "code",
      "source": [
        "# We are preparing for a party\n",
        "guest_1 = 'John'\n",
        "guest_2 = 'Anna'\n",
        "guest_3 = 'Jeniffer'\n",
        "\n",
        "print(guest_1, guest_2, guest_3)\n",
        "\n",
        "guests = ['John', 'Anna', 'Jenifer', 'Kerli', 'Madara']\n",
        "print(guests)"
      ],
      "metadata": {
        "colab": {
          "base_uri": "https://localhost:8080/"
        },
        "id": "057cqPYpkdrj",
        "outputId": "87280477-7aea-4776-f087-6b846445196d"
      },
      "execution_count": null,
      "outputs": [
        {
          "output_type": "stream",
          "name": "stdout",
          "text": [
            "John Anna Jeniffer\n",
            "['John', 'Anna', 'Jenifer', 'Kerli', 'Madara']\n"
          ]
        }
      ]
    },
    {
      "cell_type": "code",
      "source": [
        "name = input(\"Enter your name:\")\n",
        "surname = input(\"Enter your surname:\")\n",
        "book = input(\"Enter your fav book:\")\n",
        "print(f'Hello {name}, {surname}, wants to read {book}!')"
      ],
      "metadata": {
        "colab": {
          "base_uri": "https://localhost:8080/"
        },
        "id": "gLoADcrIssSs",
        "outputId": "a4ba8c08-8f5b-4c16-b177-c21c45bbf86e"
      },
      "execution_count": null,
      "outputs": [
        {
          "output_type": "stream",
          "name": "stdout",
          "text": [
            "Enter your name:ambuja\n",
            "Enter your surname:sri\n",
            "Enter your fav book:prayer\n",
            "Hello ambuja, sri, wants to read prayer!\n"
          ]
        }
      ]
    },
    {
      "cell_type": "code",
      "source": [
        "name = input(\"Enter your name:\")\n",
        "surname = input(\"Enter your surname:\")\n",
        "book = input(\"Enter your fav book:\")\n",
        "age = input(\"Enter your age\")\n",
        "print(f'Hello {name}, {surname}, wants to read {book}!. She is {age} ')"
      ],
      "metadata": {
        "colab": {
          "base_uri": "https://localhost:8080/"
        },
        "id": "ixTvdzNb1LFW",
        "outputId": "6c13d4b5-0819-4f0d-a240-2c918308e2fc"
      },
      "execution_count": null,
      "outputs": [
        {
          "output_type": "stream",
          "name": "stdout",
          "text": [
            "Enter your name:ambu\n",
            "Enter your surname:sri\n",
            "Enter your fav book:hamlet\n",
            "Enter your age30\n",
            "Hello ambu, sri, wants to read hamlet!. She is 30 \n"
          ]
        }
      ]
    },
    {
      "cell_type": "code",
      "source": [],
      "metadata": {
        "id": "jj9MLBh31xv6"
      },
      "execution_count": null,
      "outputs": []
    }
  ]
}