{
  "nbformat": 4,
  "nbformat_minor": 0,
  "metadata": {
    "colab": {
      "provenance": [],
      "authorship_tag": "ABX9TyMRVWRqnO36K5h0bMkEp1s5",
      "include_colab_link": true
    },
    "kernelspec": {
      "name": "python3",
      "display_name": "Python 3"
    },
    "language_info": {
      "name": "python"
    }
  },
  "cells": [
    {
      "cell_type": "markdown",
      "metadata": {
        "id": "view-in-github",
        "colab_type": "text"
      },
      "source": [
        "<a href=\"https://colab.research.google.com/github/AmbujaShetty/WoTech-Python/blob/main/WoTech-Python/Lesson3.ipynb\" target=\"_parent\"><img src=\"https://colab.research.google.com/assets/colab-badge.svg\" alt=\"Open In Colab\"/></a>"
      ]
    },
    {
      "cell_type": "code",
      "execution_count": null,
      "metadata": {
        "colab": {
          "base_uri": "https://localhost:8080/"
        },
        "id": "0FB2DmtCPIBi",
        "outputId": "bd81fa45-cc7a-4a64-8fa7-8af670067391"
      },
      "outputs": [
        {
          "output_type": "stream",
          "name": "stdout",
          "text": [
            "Enter your account balance: 45\n",
            "Enter the transaction amount45\n",
            "Go to work!\n"
          ]
        }
      ],
      "source": [
        "\n",
        "account_ballance = float(input('Enter your account balance: '))\n",
        "transaction_amount = float(input('Enter the transaction amount'))\n",
        "\n",
        "if account_ballance > transaction_amount:\n",
        "  print ('Transaction is done')\n",
        "else:\n",
        "  print ('Go to work!')\n"
      ]
    },
    {
      "cell_type": "code",
      "source": [
        "#grading, convert 100 to ADBCD\n",
        "try: ##highlight code block and click \"tab\"\n",
        "\n",
        "  score = int(input(\"Enter your score: \"))\n",
        "\n",
        "  if score >= 90:\n",
        "    print(\"Your grade is A!\")\n",
        "  elif score >= 80:\n",
        "    print(\"Your grade is B!\")\n",
        "  elif score >= 70:\n",
        "    print(\"Your grade is C!\")\n",
        "  elif score >= 60:\n",
        "    print(\"Your grade is D!\")\n",
        "  elif score >= 50 and score < 60:\n",
        "    print(\"Your grade is E!\")\n",
        "  else:\n",
        "    print(\"Your grade is F!\")\n",
        "\n",
        "except: ##if try gets wrong input - for example somebody writes their name over grade, it will come here\n",
        "  print(\"Wrong input!\")\n"
      ],
      "metadata": {
        "colab": {
          "base_uri": "https://localhost:8080/"
        },
        "id": "pOvEi3LPiJ8K",
        "outputId": "2b3b343d-b44f-438f-ee94-91529d55e45b"
      },
      "execution_count": null,
      "outputs": [
        {
          "output_type": "stream",
          "name": "stdout",
          "text": [
            "Enter your score: 100\n",
            "Your grade is A!\n"
          ]
        }
      ]
    },
    {
      "cell_type": "code",
      "source": [
        "shopping_cart ={}\n",
        "while True:\n",
        "  item = input(\"Add to the cart the item you want to buy(type stop ti finish): \")\n",
        "  if item == \"stop\":\n",
        "    print(\"Thanks for your time!\")\n",
        "    break\n",
        "  quantity = input(\"Enter the quantity: \")\n",
        "  shopping_cart[item] = quantity\n",
        "  print(f'Your contact {item} is added to the cart successfully!')\n",
        "print(shopping_cart)"
      ],
      "metadata": {
        "colab": {
          "base_uri": "https://localhost:8080/"
        },
        "id": "4CTse5tu3e3W",
        "outputId": "cf118dc7-0e8d-43f9-e7f0-f6f8ab2f5ce0"
      },
      "execution_count": null,
      "outputs": [
        {
          "output_type": "stream",
          "name": "stdout",
          "text": [
            "Add to the cart the item you want to buy(type stop ti finish): stop\n",
            "Thanks for your time!\n",
            "{}\n"
          ]
        }
      ]
    },
    {
      "cell_type": "code",
      "source": [
        "pystore_inventory={}\n",
        "while True:\n",
        "  item=input('Enter the input name or stop if you want to stop: ')\n",
        "\n",
        "  if item =='stop':\n",
        "    break\n",
        "  quantity = input('Enter quantity: ')\n",
        "  store_inventory[item]=quantity\n",
        "  print(f'Item {item} added succesfully to inventory with quantity {store_inventory.get(item)}')\n",
        "print(store_inventory)"
      ],
      "metadata": {
        "colab": {
          "base_uri": "https://localhost:8080/",
          "height": 245
        },
        "id": "VVIzkzXg3oVS",
        "outputId": "d91e07ca-30b9-4a0a-8ac8-d6a8e22e8ec7"
      },
      "execution_count": null,
      "outputs": [
        {
          "name": "stdout",
          "output_type": "stream",
          "text": [
            "Enter the input name or stop if you want to stop: water\n",
            "Enter quantity: 3lt\n"
          ]
        },
        {
          "output_type": "error",
          "ename": "NameError",
          "evalue": "name 'store_inventory' is not defined",
          "traceback": [
            "\u001b[0;31m---------------------------------------------------------------------------\u001b[0m",
            "\u001b[0;31mNameError\u001b[0m                                 Traceback (most recent call last)",
            "\u001b[0;32m<ipython-input-2-9be283dcf9fc>\u001b[0m in \u001b[0;36m<cell line: 2>\u001b[0;34m()\u001b[0m\n\u001b[1;32m      6\u001b[0m     \u001b[0;32mbreak\u001b[0m\u001b[0;34m\u001b[0m\u001b[0;34m\u001b[0m\u001b[0m\n\u001b[1;32m      7\u001b[0m   \u001b[0mquantity\u001b[0m \u001b[0;34m=\u001b[0m \u001b[0minput\u001b[0m\u001b[0;34m(\u001b[0m\u001b[0;34m'Enter quantity: '\u001b[0m\u001b[0;34m)\u001b[0m\u001b[0;34m\u001b[0m\u001b[0;34m\u001b[0m\u001b[0m\n\u001b[0;32m----> 8\u001b[0;31m   \u001b[0mstore_inventory\u001b[0m\u001b[0;34m[\u001b[0m\u001b[0mitem\u001b[0m\u001b[0;34m]\u001b[0m\u001b[0;34m=\u001b[0m\u001b[0mquantity\u001b[0m\u001b[0;34m\u001b[0m\u001b[0;34m\u001b[0m\u001b[0m\n\u001b[0m\u001b[1;32m      9\u001b[0m   \u001b[0mprint\u001b[0m\u001b[0;34m(\u001b[0m\u001b[0;34mf'Item {item} added succesfully to inventory with quantity {store_inventory.get(item)}'\u001b[0m\u001b[0;34m)\u001b[0m\u001b[0;34m\u001b[0m\u001b[0;34m\u001b[0m\u001b[0m\n\u001b[1;32m     10\u001b[0m \u001b[0mprint\u001b[0m\u001b[0;34m(\u001b[0m\u001b[0mstore_inventory\u001b[0m\u001b[0;34m)\u001b[0m\u001b[0;34m\u001b[0m\u001b[0;34m\u001b[0m\u001b[0m\n",
            "\u001b[0;31mNameError\u001b[0m: name 'store_inventory' is not defined"
          ]
        }
      ]
    },
    {
      "cell_type": "code",
      "source": [
        "inventory_book = {}\n",
        "\n",
        "while True:\n",
        "  print('If you want to stop adding items into inventory book write \"stop\".')\n",
        "  item = input('Enter item: ')\n",
        "  if item == \"stop\":\n",
        "    print('No more entries to inventory book')\n",
        "    break\n",
        "  number = input('Enter quantity: ')\n",
        "  inventory_book[item] = number\n",
        "  print(f'Item {item} added successfully.')\n",
        "\n",
        "print(inventory_book)"
      ],
      "metadata": {
        "colab": {
          "base_uri": "https://localhost:8080/"
        },
        "id": "tFTLJCKq37OP",
        "outputId": "f6ad667a-4635-4736-8012-2c2f0c70ee75"
      },
      "execution_count": null,
      "outputs": [
        {
          "output_type": "stream",
          "name": "stdout",
          "text": [
            "If you want to stop adding items into inventory book write \"stop\".\n",
            "Enter item: water\n",
            "Enter quantity: 3lt\n",
            "Item water added successfully.\n",
            "If you want to stop adding items into inventory book write \"stop\".\n",
            "Enter item: stop\n",
            "No more entries to inventory book\n",
            "{'water': '3lt'}\n"
          ]
        }
      ]
    }
  ]
}